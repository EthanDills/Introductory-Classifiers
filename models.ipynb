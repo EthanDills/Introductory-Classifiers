{
 "cells": [
  {
   "cell_type": "code",
   "execution_count": 1,
   "id": "64d81448",
   "metadata": {},
   "outputs": [],
   "source": [
    "import pandas as pd\n",
    "\n",
    "from sklearn.linear_model import LogisticRegression"
   ]
  },
  {
   "cell_type": "code",
   "execution_count": 6,
   "id": "2fb0664a",
   "metadata": {},
   "outputs": [],
   "source": [
    "train = pd.read_csv(\"train_for_students.csv\")\n",
    "X_train = train.drop(columns = [\"target\"])\n",
    "y_train = train[\"target\"]\n",
    "\n",
    "test = pd.read_csv(\"test_for_students.csv\")\n",
    "X_test = test.drop(columns=[\"target\"])\n",
    "y_test = test[\"target\"]"
   ]
  },
  {
   "cell_type": "code",
   "execution_count": null,
   "id": "a682fe13",
   "metadata": {},
   "outputs": [],
   "source": [
    "# Logistic Regression (for binary classification)\n",
    "\n",
    "log_model = LogisticRegression() # what should we choose for our solver?\n",
    "log_model.fit(X_train, y_train)\n"
   ]
  }
 ],
 "metadata": {
  "kernelspec": {
   "display_name": "Python 3 (ipykernel)",
   "language": "python",
   "name": "python3"
  },
  "language_info": {
   "codemirror_mode": {
    "name": "ipython",
    "version": 3
   },
   "file_extension": ".py",
   "mimetype": "text/x-python",
   "name": "python",
   "nbconvert_exporter": "python",
   "pygments_lexer": "ipython3",
   "version": "3.8.16"
  }
 },
 "nbformat": 4,
 "nbformat_minor": 5
}
